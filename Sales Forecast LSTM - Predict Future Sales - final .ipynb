{
 "cells": [
  {
   "cell_type": "code",
   "execution_count": 1,
   "metadata": {
    "_cell_guid": "b1076dfc-b9ad-4769-8c92-a6c4dae69d19",
    "_uuid": "8f2839f25d086af736a60e9eeb907d3b93b6e0e5"
   },
   "outputs": [],
   "source": [
    "import os \n",
    "\n",
    "\n",
    "import numpy as np # linear algebra\n",
    "import pandas as pd # data processing, CSV file I/O (e.g. pd.read_csv)\n",
    "\n",
    "from matplotlib import pylab as plt\n",
    "import matplotlib.dates as mdates\n",
    "plt.rcParams['figure.figsize'] = (15.0, 8.0)\n",
    "import seaborn as sns\n",
    "from sklearn.model_selection import train_test_split"
   ]
  },
  {
   "cell_type": "code",
   "execution_count": 2,
   "metadata": {
    "_cell_guid": "010d7ba6-19f5-4d41-983f-7637b04cbedc",
    "_uuid": "28d1192aa1570f6504b90bf097f612a54deeed87",
    "scrolled": true
   },
   "outputs": [],
   "source": [
    "train = pd.read_csv(r\"C:\\Users\\Nathan Campbell\\Documents\\Machine Leaning\\ML project\\Data sets\\sales_train.csv\")\n",
    "test = pd.read_csv(r\"C:\\Users\\Nathan Campbell\\Documents\\Machine Leaning\\ML project\\Data sets\\sales_test.csv\")\n",
    "items = pd.read_csv(r\"C:\\Users\\Nathan Campbell\\Documents\\Machine Leaning\\ML project\\Data sets\\items.csv\")\n",
    "#item_categories = pd.read_csv('/Users/QUAN/Documents/Machine Learning/item_categories.csv')"
   ]
  },
  {
   "cell_type": "code",
   "execution_count": 4,
   "metadata": {
    "_cell_guid": "7189a2e1-29c2-47d6-85ae-4df550e13220",
    "_uuid": "6d212321fb43a62f862f1abaa028866a5af1351e"
   },
   "outputs": [
    {
     "data": {
      "text/html": [
       "<div>\n",
       "<style scoped>\n",
       "    .dataframe tbody tr th:only-of-type {\n",
       "        vertical-align: middle;\n",
       "    }\n",
       "\n",
       "    .dataframe tbody tr th {\n",
       "        vertical-align: top;\n",
       "    }\n",
       "\n",
       "    .dataframe thead th {\n",
       "        text-align: right;\n",
       "    }\n",
       "</style>\n",
       "<table border=\"1\" class=\"dataframe\">\n",
       "  <thead>\n",
       "    <tr style=\"text-align: right;\">\n",
       "      <th></th>\n",
       "      <th>date_block_num</th>\n",
       "      <th>shop_id</th>\n",
       "      <th>item_id</th>\n",
       "      <th>item_cnt_day</th>\n",
       "    </tr>\n",
       "  </thead>\n",
       "  <tbody>\n",
       "    <tr>\n",
       "      <th>0</th>\n",
       "      <td>0</td>\n",
       "      <td>59</td>\n",
       "      <td>22154</td>\n",
       "      <td>1.0</td>\n",
       "    </tr>\n",
       "    <tr>\n",
       "      <th>1</th>\n",
       "      <td>0</td>\n",
       "      <td>25</td>\n",
       "      <td>2552</td>\n",
       "      <td>1.0</td>\n",
       "    </tr>\n",
       "    <tr>\n",
       "      <th>2</th>\n",
       "      <td>0</td>\n",
       "      <td>25</td>\n",
       "      <td>2552</td>\n",
       "      <td>-1.0</td>\n",
       "    </tr>\n",
       "    <tr>\n",
       "      <th>3</th>\n",
       "      <td>0</td>\n",
       "      <td>25</td>\n",
       "      <td>2554</td>\n",
       "      <td>1.0</td>\n",
       "    </tr>\n",
       "    <tr>\n",
       "      <th>4</th>\n",
       "      <td>0</td>\n",
       "      <td>25</td>\n",
       "      <td>2555</td>\n",
       "      <td>1.0</td>\n",
       "    </tr>\n",
       "  </tbody>\n",
       "</table>\n",
       "</div>"
      ],
      "text/plain": [
       "   date_block_num  shop_id  item_id  item_cnt_day\n",
       "0               0       59    22154           1.0\n",
       "1               0       25     2552           1.0\n",
       "2               0       25     2552          -1.0\n",
       "3               0       25     2554           1.0\n",
       "4               0       25     2555           1.0"
      ]
     },
     "execution_count": 4,
     "metadata": {},
     "output_type": "execute_result"
    }
   ],
   "source": [
    "train_clean = train.drop(labels = ['date', 'item_price'], axis = 1)\n",
    "train_clean.head()"
   ]
  },
  {
   "cell_type": "code",
   "execution_count": 5,
   "metadata": {
    "_cell_guid": "dd57ff1a-439e-48b9-bf4d-fed66a491890",
    "_uuid": "3c44fd0bbb2e406cc3faf10ecdba8ee48aa266ed",
    "scrolled": false
   },
   "outputs": [
    {
     "data": {
      "text/html": [
       "<div>\n",
       "<style scoped>\n",
       "    .dataframe tbody tr th:only-of-type {\n",
       "        vertical-align: middle;\n",
       "    }\n",
       "\n",
       "    .dataframe tbody tr th {\n",
       "        vertical-align: top;\n",
       "    }\n",
       "\n",
       "    .dataframe thead th {\n",
       "        text-align: right;\n",
       "    }\n",
       "</style>\n",
       "<table border=\"1\" class=\"dataframe\">\n",
       "  <thead>\n",
       "    <tr style=\"text-align: right;\">\n",
       "      <th></th>\n",
       "      <th>item_id</th>\n",
       "      <th>shop_id</th>\n",
       "      <th>date_block_num</th>\n",
       "      <th>item_cnt_month</th>\n",
       "    </tr>\n",
       "  </thead>\n",
       "  <tbody>\n",
       "    <tr>\n",
       "      <th>0</th>\n",
       "      <td>0</td>\n",
       "      <td>54</td>\n",
       "      <td>20</td>\n",
       "      <td>1.0</td>\n",
       "    </tr>\n",
       "    <tr>\n",
       "      <th>1</th>\n",
       "      <td>1</td>\n",
       "      <td>55</td>\n",
       "      <td>15</td>\n",
       "      <td>2.0</td>\n",
       "    </tr>\n",
       "    <tr>\n",
       "      <th>2</th>\n",
       "      <td>1</td>\n",
       "      <td>55</td>\n",
       "      <td>18</td>\n",
       "      <td>1.0</td>\n",
       "    </tr>\n",
       "    <tr>\n",
       "      <th>3</th>\n",
       "      <td>1</td>\n",
       "      <td>55</td>\n",
       "      <td>19</td>\n",
       "      <td>1.0</td>\n",
       "    </tr>\n",
       "    <tr>\n",
       "      <th>4</th>\n",
       "      <td>1</td>\n",
       "      <td>55</td>\n",
       "      <td>20</td>\n",
       "      <td>1.0</td>\n",
       "    </tr>\n",
       "    <tr>\n",
       "      <th>...</th>\n",
       "      <td>...</td>\n",
       "      <td>...</td>\n",
       "      <td>...</td>\n",
       "      <td>...</td>\n",
       "    </tr>\n",
       "    <tr>\n",
       "      <th>1609119</th>\n",
       "      <td>22168</td>\n",
       "      <td>12</td>\n",
       "      <td>8</td>\n",
       "      <td>1.0</td>\n",
       "    </tr>\n",
       "    <tr>\n",
       "      <th>1609120</th>\n",
       "      <td>22168</td>\n",
       "      <td>16</td>\n",
       "      <td>1</td>\n",
       "      <td>1.0</td>\n",
       "    </tr>\n",
       "    <tr>\n",
       "      <th>1609121</th>\n",
       "      <td>22168</td>\n",
       "      <td>42</td>\n",
       "      <td>1</td>\n",
       "      <td>1.0</td>\n",
       "    </tr>\n",
       "    <tr>\n",
       "      <th>1609122</th>\n",
       "      <td>22168</td>\n",
       "      <td>43</td>\n",
       "      <td>2</td>\n",
       "      <td>1.0</td>\n",
       "    </tr>\n",
       "    <tr>\n",
       "      <th>1609123</th>\n",
       "      <td>22169</td>\n",
       "      <td>25</td>\n",
       "      <td>14</td>\n",
       "      <td>1.0</td>\n",
       "    </tr>\n",
       "  </tbody>\n",
       "</table>\n",
       "<p>1609124 rows × 4 columns</p>\n",
       "</div>"
      ],
      "text/plain": [
       "         item_id  shop_id  date_block_num  item_cnt_month\n",
       "0              0       54              20             1.0\n",
       "1              1       55              15             2.0\n",
       "2              1       55              18             1.0\n",
       "3              1       55              19             1.0\n",
       "4              1       55              20             1.0\n",
       "...          ...      ...             ...             ...\n",
       "1609119    22168       12               8             1.0\n",
       "1609120    22168       16               1             1.0\n",
       "1609121    22168       42               1             1.0\n",
       "1609122    22168       43               2             1.0\n",
       "1609123    22169       25              14             1.0\n",
       "\n",
       "[1609124 rows x 4 columns]"
      ]
     },
     "execution_count": 5,
     "metadata": {},
     "output_type": "execute_result"
    }
   ],
   "source": [
    "# change the item count per day to item count per month by using group\n",
    "train_clean = train_clean.groupby([\"item_id\",\"shop_id\",\"date_block_num\"]).sum().reset_index()\n",
    "train_clean = train_clean.rename(index=str, columns = {\"item_cnt_day\":\"item_cnt_month\"})\n",
    "train_clean = train_clean[[\"item_id\",\"shop_id\",\"date_block_num\",\"item_cnt_month\"]]\n",
    "train_clean"
   ]
  },
  {
   "cell_type": "code",
   "execution_count": 6,
   "metadata": {
    "_cell_guid": "3c53ad9a-58b6-4c7d-a38b-e815692d6249",
    "_uuid": "1c696a22f60ebdb59caff7524944e520e5329ae5",
    "scrolled": false
   },
   "outputs": [
    {
     "data": {
      "text/html": [
       "<div>\n",
       "<style scoped>\n",
       "    .dataframe tbody tr th:only-of-type {\n",
       "        vertical-align: middle;\n",
       "    }\n",
       "\n",
       "    .dataframe tbody tr th {\n",
       "        vertical-align: top;\n",
       "    }\n",
       "\n",
       "    .dataframe thead th {\n",
       "        text-align: right;\n",
       "    }\n",
       "</style>\n",
       "<table border=\"1\" class=\"dataframe\">\n",
       "  <thead>\n",
       "    <tr style=\"text-align: right;\">\n",
       "      <th></th>\n",
       "      <th>item_id</th>\n",
       "      <th>shop_id</th>\n",
       "      <th>date_block_num</th>\n",
       "      <th>item_cnt_month</th>\n",
       "    </tr>\n",
       "  </thead>\n",
       "  <tbody>\n",
       "    <tr>\n",
       "      <th>0</th>\n",
       "      <td>0</td>\n",
       "      <td>54</td>\n",
       "      <td>20</td>\n",
       "      <td>1.0</td>\n",
       "    </tr>\n",
       "    <tr>\n",
       "      <th>1</th>\n",
       "      <td>1</td>\n",
       "      <td>55</td>\n",
       "      <td>15</td>\n",
       "      <td>2.0</td>\n",
       "    </tr>\n",
       "    <tr>\n",
       "      <th>2</th>\n",
       "      <td>1</td>\n",
       "      <td>55</td>\n",
       "      <td>18</td>\n",
       "      <td>1.0</td>\n",
       "    </tr>\n",
       "    <tr>\n",
       "      <th>3</th>\n",
       "      <td>1</td>\n",
       "      <td>55</td>\n",
       "      <td>19</td>\n",
       "      <td>1.0</td>\n",
       "    </tr>\n",
       "    <tr>\n",
       "      <th>4</th>\n",
       "      <td>1</td>\n",
       "      <td>55</td>\n",
       "      <td>20</td>\n",
       "      <td>1.0</td>\n",
       "    </tr>\n",
       "    <tr>\n",
       "      <th>...</th>\n",
       "      <td>...</td>\n",
       "      <td>...</td>\n",
       "      <td>...</td>\n",
       "      <td>...</td>\n",
       "    </tr>\n",
       "    <tr>\n",
       "      <th>1609119</th>\n",
       "      <td>22168</td>\n",
       "      <td>12</td>\n",
       "      <td>8</td>\n",
       "      <td>1.0</td>\n",
       "    </tr>\n",
       "    <tr>\n",
       "      <th>1609120</th>\n",
       "      <td>22168</td>\n",
       "      <td>16</td>\n",
       "      <td>1</td>\n",
       "      <td>1.0</td>\n",
       "    </tr>\n",
       "    <tr>\n",
       "      <th>1609121</th>\n",
       "      <td>22168</td>\n",
       "      <td>42</td>\n",
       "      <td>1</td>\n",
       "      <td>1.0</td>\n",
       "    </tr>\n",
       "    <tr>\n",
       "      <th>1609122</th>\n",
       "      <td>22168</td>\n",
       "      <td>43</td>\n",
       "      <td>2</td>\n",
       "      <td>1.0</td>\n",
       "    </tr>\n",
       "    <tr>\n",
       "      <th>1609123</th>\n",
       "      <td>22169</td>\n",
       "      <td>25</td>\n",
       "      <td>14</td>\n",
       "      <td>1.0</td>\n",
       "    </tr>\n",
       "  </tbody>\n",
       "</table>\n",
       "<p>1609124 rows × 4 columns</p>\n",
       "</div>"
      ],
      "text/plain": [
       "         item_id  shop_id  date_block_num  item_cnt_month\n",
       "0              0       54              20             1.0\n",
       "1              1       55              15             2.0\n",
       "2              1       55              18             1.0\n",
       "3              1       55              19             1.0\n",
       "4              1       55              20             1.0\n",
       "...          ...      ...             ...             ...\n",
       "1609119    22168       12               8             1.0\n",
       "1609120    22168       16               1             1.0\n",
       "1609121    22168       42               1             1.0\n",
       "1609122    22168       43               2             1.0\n",
       "1609123    22169       25              14             1.0\n",
       "\n",
       "[1609124 rows x 4 columns]"
      ]
     },
     "execution_count": 6,
     "metadata": {},
     "output_type": "execute_result"
    }
   ],
   "source": [
    "train_clean = train.groupby([\"item_id\",\"shop_id\",\"date_block_num\"]).sum().reset_index()\n",
    "train_clean = train_clean.rename(index=str, columns = {\"item_cnt_day\":\"item_cnt_month\"})\n",
    "train_clean = train_clean[[\"item_id\",\"shop_id\",\"date_block_num\",\"item_cnt_month\"]]\n",
    "train_clean\n",
    "\n"
   ]
  },
  {
   "cell_type": "code",
   "execution_count": 7,
   "metadata": {
    "_cell_guid": "d66469d8-6670-41af-b647-5d9a56d7cd94",
    "_uuid": "bf52a2da7256df4cf1168ef885ff24b2dafe9126"
   },
   "outputs": [],
   "source": [
    "for i in range(1,6):\n",
    "    train_clean[\"T_\" + str(i)] = train_clean.item_cnt_month.shift(i)\n",
    "train_clean.fillna(0.0, inplace=True)\n",
    "\n",
    "\n",
    "\n",
    "\n"
   ]
  },
  {
   "cell_type": "code",
   "execution_count": 8,
   "metadata": {},
   "outputs": [],
   "source": [
    "predictors = train_clean.drop([\"item_cnt_month\"],axis = 1)\n",
    "response = train_clean[\"item_cnt_month\"]\n",
    "x_train_value, x_value, y_train_value, y_value = train_test_split(predictors, response, test_size = 0.25, random_state = 0)"
   ]
  },
  {
   "cell_type": "code",
   "execution_count": 9,
   "metadata": {
    "_cell_guid": "ae3046b9-bf4d-447d-b1aa-752cca8ff497",
    "_uuid": "f4f3630fbc6c0c503990de984fc0dc6e6d3dca01"
   },
   "outputs": [
    {
     "name": "stderr",
     "output_type": "stream",
     "text": [
      "Using TensorFlow backend.\n"
     ]
    }
   ],
   "source": [
    "import tensorflow\n",
    "from keras.models import Sequential\n",
    "from keras.layers import Dense\n",
    "from keras.layers import LSTM\n",
    "model_lstm = Sequential()\n",
    "model_lstm.add(LSTM(15, input_shape=(1,8)))\n",
    "model_lstm.add(Dense(1))\n",
    "model_lstm.compile(loss='mean_squared_error', optimizer='adam', metrics=['accuracy'])"
   ]
  },
  {
   "cell_type": "code",
   "execution_count": 11,
   "metadata": {
    "_cell_guid": "6dc22477-0d27-4e9e-85ff-5c6af53acb95",
    "_uuid": "b2fa9440e5e332b48b79945677f81327aa3686b9"
   },
   "outputs": [],
   "source": [
    "# Reshape the data between -1 and 1 and to 3D\n",
    "from sklearn.preprocessing import StandardScaler,MinMaxScaler\n",
    "scaler = StandardScaler()\n",
    "scaler = MinMaxScaler(feature_range=(-1, 1))\n",
    "x_train_scaled = scaler.fit_transform(x_train_value)\n",
    "x_valid_scaled = scaler.fit_transform(x_value)"
   ]
  },
  {
   "cell_type": "code",
   "execution_count": 12,
   "metadata": {
    "_cell_guid": "d19697c5-bb7e-4170-9a99-e00aa4313c0f",
    "_uuid": "28688391a0fff6dbbbf8226ecc97c7006d367bae"
   },
   "outputs": [],
   "source": [
    "x_train_reshaped = np.reshape(x_train_scaled, (x_train_scaled.shape[0], 1, x_train_scaled.shape[1]))\n",
    "x_val_resaped = np.reshape(x_valid_scaled, (x_valid_scaled.shape[0], 1, x_valid_scaled.shape[1]))"
   ]
  },
  {
   "cell_type": "code",
   "execution_count": null,
   "metadata": {},
   "outputs": [],
   "source": [
    "history = model_lstm.fit(x_train_reshaped, y_train_value, validation_data=(x_val_resaped, y_value),epochs=70, batch_size=12, verbose=2, shuffle=False)\n",
    "y_pre = model_lstm.predict(x_val_resaped)"
   ]
  },
  {
   "cell_type": "code",
   "execution_count": 19,
   "metadata": {
    "_cell_guid": "6023ea73-2dee-412a-aad1-f7b0f9ee6d1c",
    "_uuid": "770ffbffc5060e1a063cfaad09e4bba651abf444",
    "scrolled": false
   },
   "outputs": [
    {
     "name": "stdout",
     "output_type": "stream",
     "text": [
      "Train on 1206843 samples, validate on 402281 samples\n",
      "Epoch 1/20\n",
      " - 174s - loss: 41.0786 - accuracy: 0.3534 - val_loss: 38.5714 - val_accuracy: 0.1364\n",
      "Epoch 2/20\n",
      " - 131s - loss: 41.0405 - accuracy: 0.3529 - val_loss: 38.6049 - val_accuracy: 0.1381\n",
      "Epoch 3/20\n",
      " - 135s - loss: 41.0108 - accuracy: 0.3530 - val_loss: 38.6027 - val_accuracy: 0.1401\n",
      "Epoch 4/20\n",
      " - 134s - loss: 40.9837 - accuracy: 0.3530 - val_loss: 38.5756 - val_accuracy: 0.1424\n",
      "Epoch 5/20\n",
      " - 134s - loss: 40.9600 - accuracy: 0.3531 - val_loss: 38.5498 - val_accuracy: 0.1447\n",
      "Epoch 6/20\n",
      " - 153s - loss: 40.9395 - accuracy: 0.3530 - val_loss: 38.5372 - val_accuracy: 0.1467\n",
      "Epoch 7/20\n",
      " - 143s - loss: 40.9211 - accuracy: 0.3530 - val_loss: 38.5264 - val_accuracy: 0.1486\n",
      "Epoch 8/20\n",
      " - 142s - loss: 40.9032 - accuracy: 0.3530 - val_loss: 38.5175 - val_accuracy: 0.1504\n",
      "Epoch 9/20\n",
      " - 146s - loss: 40.8847 - accuracy: 0.3530 - val_loss: 38.5043 - val_accuracy: 0.1519\n",
      "Epoch 10/20\n",
      " - 150s - loss: 40.8673 - accuracy: 0.3531 - val_loss: 38.5005 - val_accuracy: 0.1533\n",
      "Epoch 11/20\n",
      " - 146s - loss: 40.8499 - accuracy: 0.3531 - val_loss: 38.4869 - val_accuracy: 0.1545\n",
      "Epoch 12/20\n",
      " - 151s - loss: 40.8318 - accuracy: 0.3530 - val_loss: 38.4645 - val_accuracy: 0.1557\n",
      "Epoch 13/20\n",
      " - 140s - loss: 40.8136 - accuracy: 0.3530 - val_loss: 38.4399 - val_accuracy: 0.1567\n",
      "Epoch 14/20\n",
      " - 143s - loss: 40.7966 - accuracy: 0.3530 - val_loss: 38.4200 - val_accuracy: 0.1577\n",
      "Epoch 15/20\n",
      " - 143s - loss: 40.7799 - accuracy: 0.3531 - val_loss: 38.3930 - val_accuracy: 0.1584\n",
      "Epoch 16/20\n",
      " - 152s - loss: 40.7646 - accuracy: 0.3531 - val_loss: 38.3746 - val_accuracy: 0.1591\n",
      "Epoch 17/20\n",
      " - 152s - loss: 40.7502 - accuracy: 0.3531 - val_loss: 38.3589 - val_accuracy: 0.1596\n",
      "Epoch 18/20\n",
      " - 143s - loss: 40.7365 - accuracy: 0.3532 - val_loss: 38.3456 - val_accuracy: 0.1601\n",
      "Epoch 19/20\n",
      " - 143s - loss: 40.7235 - accuracy: 0.3531 - val_loss: 38.3261 - val_accuracy: 0.1604\n",
      "Epoch 20/20\n",
      " - 150s - loss: 40.7119 - accuracy: 0.3531 - val_loss: 38.3262 - val_accuracy: 0.1608\n"
     ]
    }
   ],
   "source": [
    "history = model_lstm.fit(x_train_reshaped, y_train_value, validation_data=(x_val_resaped, y_value),epochs=20, batch_size=15, verbose=2, shuffle=False)\n",
    "y_pre = model_lstm.predict(x_val_resaped)"
   ]
  },
  {
   "cell_type": "code",
   "execution_count": 14,
   "metadata": {
    "_cell_guid": "01b28070-1a3a-42b4-930a-a00674a099e2",
    "_uuid": "e74c448ad18ae2e88fe32c94a6fb2c0959f6dcc8",
    "scrolled": true
   },
   "outputs": [
    {
     "name": "stdout",
     "output_type": "stream",
     "text": [
      "Val RMSE: 6.217\n"
     ]
    }
   ],
   "source": [
    "from sklearn.metrics import mean_squared_error\n",
    "from numpy import sqrt\n",
    "rmse = sqrt(mean_squared_error(y_value,y_pre))\n",
    "print('Val RMSE: %.3f' % rmse)"
   ]
  },
  {
   "cell_type": "code",
   "execution_count": 17,
   "metadata": {
    "_cell_guid": "13238f51-3845-4403-b9dd-f021e569679f",
    "_uuid": "ec784351eb69751205509eb3b137bac7a3b50330"
   },
   "outputs": [
    {
     "ename": "ValueError",
     "evalue": "Classification metrics can't handle a mix of multiclass and continuous targets",
     "output_type": "error",
     "traceback": [
      "\u001b[1;31m---------------------------------------------------------------------------\u001b[0m",
      "\u001b[1;31mValueError\u001b[0m                                Traceback (most recent call last)",
      "\u001b[1;32m<ipython-input-17-a5879c3c490e>\u001b[0m in \u001b[0;36m<module>\u001b[1;34m\u001b[0m\n\u001b[0;32m      3\u001b[0m \u001b[1;31m#F1 = f1_score(y_value, y_pre)\u001b[0m\u001b[1;33m\u001b[0m\u001b[1;33m\u001b[0m\u001b[1;33m\u001b[0m\u001b[0m\n\u001b[0;32m      4\u001b[0m \u001b[1;31m#recall = recall_score(y_value, y_pre)\u001b[0m\u001b[1;33m\u001b[0m\u001b[1;33m\u001b[0m\u001b[1;33m\u001b[0m\u001b[0m\n\u001b[1;32m----> 5\u001b[1;33m \u001b[0maccuracy\u001b[0m \u001b[1;33m=\u001b[0m \u001b[0maccuracy_score\u001b[0m\u001b[1;33m(\u001b[0m\u001b[0my_value\u001b[0m\u001b[1;33m,\u001b[0m \u001b[0my_pre\u001b[0m\u001b[1;33m)\u001b[0m\u001b[1;33m\u001b[0m\u001b[1;33m\u001b[0m\u001b[0m\n\u001b[0m\u001b[0;32m      6\u001b[0m \u001b[0mprint\u001b[0m\u001b[1;33m(\u001b[0m\u001b[1;34m\"Precision Score: \"\u001b[0m\u001b[1;33m,\u001b[0m \u001b[0mprecision\u001b[0m\u001b[1;33m)\u001b[0m\u001b[1;33m\u001b[0m\u001b[1;33m\u001b[0m\u001b[0m\n\u001b[0;32m      7\u001b[0m \u001b[0mprint\u001b[0m\u001b[1;33m(\u001b[0m\u001b[1;34m\"F1 Score: \"\u001b[0m\u001b[1;33m,\u001b[0m \u001b[0mF1\u001b[0m\u001b[1;33m)\u001b[0m\u001b[1;33m\u001b[0m\u001b[1;33m\u001b[0m\u001b[0m\n",
      "\u001b[1;32m~\\Anaconda3\\lib\\site-packages\\sklearn\\metrics\\_classification.py\u001b[0m in \u001b[0;36maccuracy_score\u001b[1;34m(y_true, y_pred, normalize, sample_weight)\u001b[0m\n\u001b[0;32m    183\u001b[0m \u001b[1;33m\u001b[0m\u001b[0m\n\u001b[0;32m    184\u001b[0m     \u001b[1;31m# Compute accuracy for each possible representation\u001b[0m\u001b[1;33m\u001b[0m\u001b[1;33m\u001b[0m\u001b[1;33m\u001b[0m\u001b[0m\n\u001b[1;32m--> 185\u001b[1;33m     \u001b[0my_type\u001b[0m\u001b[1;33m,\u001b[0m \u001b[0my_true\u001b[0m\u001b[1;33m,\u001b[0m \u001b[0my_pred\u001b[0m \u001b[1;33m=\u001b[0m \u001b[0m_check_targets\u001b[0m\u001b[1;33m(\u001b[0m\u001b[0my_true\u001b[0m\u001b[1;33m,\u001b[0m \u001b[0my_pred\u001b[0m\u001b[1;33m)\u001b[0m\u001b[1;33m\u001b[0m\u001b[1;33m\u001b[0m\u001b[0m\n\u001b[0m\u001b[0;32m    186\u001b[0m     \u001b[0mcheck_consistent_length\u001b[0m\u001b[1;33m(\u001b[0m\u001b[0my_true\u001b[0m\u001b[1;33m,\u001b[0m \u001b[0my_pred\u001b[0m\u001b[1;33m,\u001b[0m \u001b[0msample_weight\u001b[0m\u001b[1;33m)\u001b[0m\u001b[1;33m\u001b[0m\u001b[1;33m\u001b[0m\u001b[0m\n\u001b[0;32m    187\u001b[0m     \u001b[1;32mif\u001b[0m \u001b[0my_type\u001b[0m\u001b[1;33m.\u001b[0m\u001b[0mstartswith\u001b[0m\u001b[1;33m(\u001b[0m\u001b[1;34m'multilabel'\u001b[0m\u001b[1;33m)\u001b[0m\u001b[1;33m:\u001b[0m\u001b[1;33m\u001b[0m\u001b[1;33m\u001b[0m\u001b[0m\n",
      "\u001b[1;32m~\\Anaconda3\\lib\\site-packages\\sklearn\\metrics\\_classification.py\u001b[0m in \u001b[0;36m_check_targets\u001b[1;34m(y_true, y_pred)\u001b[0m\n\u001b[0;32m     88\u001b[0m     \u001b[1;32mif\u001b[0m \u001b[0mlen\u001b[0m\u001b[1;33m(\u001b[0m\u001b[0my_type\u001b[0m\u001b[1;33m)\u001b[0m \u001b[1;33m>\u001b[0m \u001b[1;36m1\u001b[0m\u001b[1;33m:\u001b[0m\u001b[1;33m\u001b[0m\u001b[1;33m\u001b[0m\u001b[0m\n\u001b[0;32m     89\u001b[0m         raise ValueError(\"Classification metrics can't handle a mix of {0} \"\n\u001b[1;32m---> 90\u001b[1;33m                          \"and {1} targets\".format(type_true, type_pred))\n\u001b[0m\u001b[0;32m     91\u001b[0m \u001b[1;33m\u001b[0m\u001b[0m\n\u001b[0;32m     92\u001b[0m     \u001b[1;31m# We can't have more than one value on y_type => The set is no more needed\u001b[0m\u001b[1;33m\u001b[0m\u001b[1;33m\u001b[0m\u001b[1;33m\u001b[0m\u001b[0m\n",
      "\u001b[1;31mValueError\u001b[0m: Classification metrics can't handle a mix of multiclass and continuous targets"
     ]
    }
   ],
   "source": [
    "from sklearn.metrics import precision_score,f1_score, recall_score, accuracy_score\n",
    "#precision = precision_score(y_value, y_pre)\n",
    "#F1 = f1_score(y_value, y_pre)\n",
    "#recall = recall_score(y_value, y_pre)\n",
    "accuracy = accuracy_score(y_value, y_pre)\n",
    "print(\"Precision Score: \", precision)\n",
    "print(\"F1 Score: \", F1)\n",
    "print(\"Recall Score: \", recall)\n",
    "print(\"Accuracy Score: \", accuracy)"
   ]
  }
 ],
 "metadata": {
  "kernelspec": {
   "display_name": "Python 3",
   "language": "python",
   "name": "python3"
  },
  "language_info": {
   "codemirror_mode": {
    "name": "ipython",
    "version": 3
   },
   "file_extension": ".py",
   "mimetype": "text/x-python",
   "name": "python",
   "nbconvert_exporter": "python",
   "pygments_lexer": "ipython3",
   "version": "3.7.6"
  }
 },
 "nbformat": 4,
 "nbformat_minor": 1
}
